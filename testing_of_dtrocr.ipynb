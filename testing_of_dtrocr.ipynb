{
 "cells": [
  {
   "cell_type": "code",
   "execution_count": null,
   "id": "d666a253",
   "metadata": {},
   "outputs": [],
   "source": [
    "from dtrocr.config import DTrOCRConfig\n",
    "from dtrocr.model import DTrOCRLMHeadModel\n",
    "from dtrocr.processor import DTrOCRProcessor\n",
    "\n",
    "from PIL import Image\n",
    "\n",
    "config = DTrOCRConfig()\n",
    "model = DTrOCRLMHeadModel(config)\n",
    "processor = DTrOCRProcessor(DTrOCRConfig())\n",
    "\n",
    "model.eval()        # set model to evaluation mode for deterministic behaviour\n",
    "path_to_image = \"sample template.jpeg\"  # path to image file\n",
    "\n",
    "inputs = processor(\n",
    "    images=Image.open(path_to_image).convert('RGB'),\n",
    "    texts=processor.tokeniser.bos_token,\n",
    "    return_tensors=\"pt\"\n",
    ")\n",
    "\n",
    "model_output = model.generate(\n",
    "    inputs=inputs, \n",
    "    processor=processor, \n",
    "    num_beams=3,    # defaults to 1 if not specified\n",
    "    use_cache=True  # defaults to True if not specified\n",
    ")\n",
    "\n",
    "predicted_text = processor.tokeniser.decode(model_output[0], skip_special_tokens=True)"
   ]
  },
  {
   "cell_type": "code",
   "execution_count": null,
   "id": "4c0416ce",
   "metadata": {},
   "outputs": [],
   "source": []
  }
 ],
 "metadata": {
  "kernelspec": {
   "display_name": "Python 3",
   "language": "python",
   "name": "python3"
  },
  "language_info": {
   "codemirror_mode": {
    "name": "ipython",
    "version": 3
   },
   "file_extension": ".py",
   "mimetype": "text/x-python",
   "name": "python",
   "nbconvert_exporter": "python",
   "pygments_lexer": "ipython3",
   "version": "3.12.6"
  }
 },
 "nbformat": 4,
 "nbformat_minor": 5
}
