{
 "cells": [
  {
   "cell_type": "code",
   "execution_count": null,
   "id": "a79f7276",
   "metadata": {},
   "outputs": [],
   "source": [
    "! pip install easyocr"
   ]
  },
  {
   "cell_type": "code",
   "execution_count": null,
   "id": "802ae97f",
   "metadata": {},
   "outputs": [],
   "source": [
    "! pip install torch torchvision torchaudio"
   ]
  },
  {
   "cell_type": "code",
   "execution_count": null,
   "id": "b6e7075d",
   "metadata": {},
   "outputs": [],
   "source": [
    "! pip install transformers"
   ]
  },
  {
   "cell_type": "code",
   "execution_count": null,
   "id": "ffe9dd31",
   "metadata": {},
   "outputs": [],
   "source": [
    "! pip install pytesseract\n",
    "! pip install opencv-python pillow"
   ]
  },
  {
   "cell_type": "code",
   "execution_count": null,
   "id": "04e31e06",
   "metadata": {},
   "outputs": [],
   "source": [
    "import cv2\n",
    "import json\n",
    "import easyocr\n",
    "import pytesseract\n",
    "from PIL import Image\n",
    "import torch\n",
    "from transformers import TrOCRProcessor, VisionEncoderDecoderModel\n",
    "from torchvision.transforms import ToTensor, Resize, Compose\n",
    "import torchvision.transforms.functional as TF\n",
    "\n",
    "# Path to image\n",
    "image_path = \"sample template.jpeg\"\n",
    "\n",
    "# -------------------- OpenCV Preprocessing --------------------\n",
    "image = cv2.imread(image_path)\n",
    "gray = cv2.cvtColor(image, cv2.COLOR_BGR2GRAY)\n",
    "gray = cv2.fastNlMeansDenoising(gray, None, 30, 7, 21)\n",
    "gray = cv2.resize(gray, None, fx=2, fy=2, interpolation=cv2.INTER_CUBIC)\n",
    "processed_path = \"processed.jpg\"\n",
    "cv2.imwrite(processed_path, gray)\n",
    "\n",
    "# -------------------- EasyOCR --------------------\n",
    "easy_reader = easyocr.Reader(['en'], gpu=False)\n",
    "easy_results = easy_reader.readtext(processed_path)\n",
    "\n",
    "easy_texts = [text for (_, text, _) in easy_results]\n",
    "\n",
    "# -------------------- pytesseract --------------------\n",
    "# pytesseract.pytesseract.tesseract_cmd = r'C:\\Program Files\\Tesseract-OCR\\tesseract.exe'  # Or Linux path\n",
    "# pytess_text = pytesseract.image_to_string(Image.open(processed_path))\n",
    "\n",
    "# -------------------- TrOCR --------------------\n",
    "processor = TrOCRProcessor.from_pretrained(\"microsoft/trocr-base-handwritten\")\n",
    "model = VisionEncoderDecoderModel.from_pretrained(\"microsoft/trocr-base-handwritten\")\n",
    "\n",
    "transform = Compose([\n",
    "    Resize((384, 384)),\n",
    "    ToTensor()\n",
    "])\n",
    "\n",
    "img_pil = Image.open(image_path).convert(\"RGB\")\n",
    "pixel_values = transform(img_pil).unsqueeze(0)\n",
    "\n",
    "with torch.no_grad():\n",
    "    generated_ids = model.generate(pixel_values)\n",
    "    trocr_text = processor.batch_decode(generated_ids, skip_special_tokens=True)[0]\n",
    "\n",
    "# -------------------- Combine and Output --------------------\n",
    "output = {\n",
    "    \"easyocr\": easy_texts,\n",
    "    # \"pytesseract\": pytess_text.strip(),\n",
    "    \"trocr\": trocr_text.strip()\n",
    "}\n",
    "\n",
    "print(json.dumps(output, indent=2))\n"
   ]
  },
  {
   "cell_type": "code",
   "execution_count": null,
   "id": "31f6a98f",
   "metadata": {},
   "outputs": [],
   "source": []
  }
 ],
 "metadata": {
  "kernelspec": {
   "display_name": "Python 3",
   "language": "python",
   "name": "python3"
  },
  "language_info": {
   "codemirror_mode": {
    "name": "ipython",
    "version": 3
   },
   "file_extension": ".py",
   "mimetype": "text/x-python",
   "name": "python",
   "nbconvert_exporter": "python",
   "pygments_lexer": "ipython3",
   "version": "3.12.6"
  }
 },
 "nbformat": 4,
 "nbformat_minor": 5
}
